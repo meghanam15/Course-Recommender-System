{
 "cells": [
  {
   "cell_type": "code",
   "execution_count": 1,
   "metadata": {},
   "outputs": [
    {
     "data": {
      "text/html": [
       "<div>\n",
       "<style scoped>\n",
       "    .dataframe tbody tr th:only-of-type {\n",
       "        vertical-align: middle;\n",
       "    }\n",
       "\n",
       "    .dataframe tbody tr th {\n",
       "        vertical-align: top;\n",
       "    }\n",
       "\n",
       "    .dataframe thead th {\n",
       "        text-align: right;\n",
       "    }\n",
       "</style>\n",
       "<table border=\"1\" class=\"dataframe\">\n",
       "  <thead>\n",
       "    <tr style=\"text-align: right;\">\n",
       "      <th></th>\n",
       "      <th>id</th>\n",
       "      <th>title</th>\n",
       "      <th>url</th>\n",
       "      <th>is_paid</th>\n",
       "      <th>instructor_names</th>\n",
       "      <th>category</th>\n",
       "      <th>headline</th>\n",
       "      <th>num_subscribers</th>\n",
       "      <th>rating</th>\n",
       "      <th>num_reviews</th>\n",
       "      <th>instructional_level</th>\n",
       "      <th>objectives</th>\n",
       "      <th>curriculum</th>\n",
       "    </tr>\n",
       "  </thead>\n",
       "  <tbody>\n",
       "    <tr>\n",
       "      <th>0</th>\n",
       "      <td>567828</td>\n",
       "      <td>The Complete Python Bootcamp From Zero to Hero...</td>\n",
       "      <td>https://www.udemy.com/course/complete-python-b...</td>\n",
       "      <td>True</td>\n",
       "      <td>Jose Portilla, Pierian Training</td>\n",
       "      <td>Development</td>\n",
       "      <td>Learn Python like a Professional  Start from t...</td>\n",
       "      <td>1976866</td>\n",
       "      <td>4.576494</td>\n",
       "      <td>521219</td>\n",
       "      <td>All Levels</td>\n",
       "      <td>You will learn how to leverage the power of Py...</td>\n",
       "      <td>Course Overview, Auto-Welcome Message, Course ...</td>\n",
       "    </tr>\n",
       "    <tr>\n",
       "      <th>1</th>\n",
       "      <td>1565838</td>\n",
       "      <td>The Complete 2024 Web Development Bootcamp</td>\n",
       "      <td>https://www.udemy.com/course/the-complete-web-...</td>\n",
       "      <td>True</td>\n",
       "      <td>Dr. Angela Yu, Developer and Lead Instructor</td>\n",
       "      <td>Development</td>\n",
       "      <td>Become a Full-Stack Web Developer with just ON...</td>\n",
       "      <td>1362586</td>\n",
       "      <td>4.679065</td>\n",
       "      <td>409793</td>\n",
       "      <td>All Levels</td>\n",
       "      <td>Build 16 web development projects for your por...</td>\n",
       "      <td>Front-End Web Development, What You'll Get in ...</td>\n",
       "    </tr>\n",
       "    <tr>\n",
       "      <th>2</th>\n",
       "      <td>2776760</td>\n",
       "      <td>100 Days of Code: The Complete Python Pro Boot...</td>\n",
       "      <td>https://www.udemy.com/course/100-days-of-code/</td>\n",
       "      <td>True</td>\n",
       "      <td>Dr. Angela Yu, Developer and Lead Instructor</td>\n",
       "      <td>Development</td>\n",
       "      <td>Master Python by building 100 projects in 100 ...</td>\n",
       "      <td>1417942</td>\n",
       "      <td>4.698768</td>\n",
       "      <td>331803</td>\n",
       "      <td>All Levels</td>\n",
       "      <td>You will master the Python programming languag...</td>\n",
       "      <td>Day 1 - Beginner - Working with Variables in P...</td>\n",
       "    </tr>\n",
       "    <tr>\n",
       "      <th>3</th>\n",
       "      <td>625204</td>\n",
       "      <td>The Web Developer Bootcamp 2024</td>\n",
       "      <td>https://www.udemy.com/course/the-web-developer...</td>\n",
       "      <td>True</td>\n",
       "      <td>Colt Steele</td>\n",
       "      <td>Development</td>\n",
       "      <td>10 Hours of React just added. Become a Develop...</td>\n",
       "      <td>923815</td>\n",
       "      <td>4.673450</td>\n",
       "      <td>276723</td>\n",
       "      <td>All Levels</td>\n",
       "      <td>The ins and outs of HTML5, CSS3, and Modern Ja...</td>\n",
       "      <td>Course Orientation, Welcome To The Course!, Jo...</td>\n",
       "    </tr>\n",
       "    <tr>\n",
       "      <th>4</th>\n",
       "      <td>1362070</td>\n",
       "      <td>React - The Complete Guide 2024 (incl. Next.js...</td>\n",
       "      <td>https://www.udemy.com/course/react-the-complet...</td>\n",
       "      <td>True</td>\n",
       "      <td>Academind by Maximilian Schwarzmüller, Maximil...</td>\n",
       "      <td>Development</td>\n",
       "      <td>Dive in and learn React.js from scratch! Learn...</td>\n",
       "      <td>909848</td>\n",
       "      <td>4.638643</td>\n",
       "      <td>220051</td>\n",
       "      <td>All Levels</td>\n",
       "      <td>Learn React from the ground up and finish the ...</td>\n",
       "      <td>Getting Started, Welcome To The Course!, What ...</td>\n",
       "    </tr>\n",
       "  </tbody>\n",
       "</table>\n",
       "</div>"
      ],
      "text/plain": [
       "        id                                              title  \\\n",
       "0   567828  The Complete Python Bootcamp From Zero to Hero...   \n",
       "1  1565838         The Complete 2024 Web Development Bootcamp   \n",
       "2  2776760  100 Days of Code: The Complete Python Pro Boot...   \n",
       "3   625204                    The Web Developer Bootcamp 2024   \n",
       "4  1362070  React - The Complete Guide 2024 (incl. Next.js...   \n",
       "\n",
       "                                                 url  is_paid  \\\n",
       "0  https://www.udemy.com/course/complete-python-b...     True   \n",
       "1  https://www.udemy.com/course/the-complete-web-...     True   \n",
       "2     https://www.udemy.com/course/100-days-of-code/     True   \n",
       "3  https://www.udemy.com/course/the-web-developer...     True   \n",
       "4  https://www.udemy.com/course/react-the-complet...     True   \n",
       "\n",
       "                                    instructor_names     category  \\\n",
       "0                    Jose Portilla, Pierian Training  Development   \n",
       "1       Dr. Angela Yu, Developer and Lead Instructor  Development   \n",
       "2       Dr. Angela Yu, Developer and Lead Instructor  Development   \n",
       "3                                        Colt Steele  Development   \n",
       "4  Academind by Maximilian Schwarzmüller, Maximil...  Development   \n",
       "\n",
       "                                            headline  num_subscribers  \\\n",
       "0  Learn Python like a Professional  Start from t...          1976866   \n",
       "1  Become a Full-Stack Web Developer with just ON...          1362586   \n",
       "2  Master Python by building 100 projects in 100 ...          1417942   \n",
       "3  10 Hours of React just added. Become a Develop...           923815   \n",
       "4  Dive in and learn React.js from scratch! Learn...           909848   \n",
       "\n",
       "     rating  num_reviews instructional_level  \\\n",
       "0  4.576494       521219          All Levels   \n",
       "1  4.679065       409793          All Levels   \n",
       "2  4.698768       331803          All Levels   \n",
       "3  4.673450       276723          All Levels   \n",
       "4  4.638643       220051          All Levels   \n",
       "\n",
       "                                          objectives  \\\n",
       "0  You will learn how to leverage the power of Py...   \n",
       "1  Build 16 web development projects for your por...   \n",
       "2  You will master the Python programming languag...   \n",
       "3  The ins and outs of HTML5, CSS3, and Modern Ja...   \n",
       "4  Learn React from the ground up and finish the ...   \n",
       "\n",
       "                                          curriculum  \n",
       "0  Course Overview, Auto-Welcome Message, Course ...  \n",
       "1  Front-End Web Development, What You'll Get in ...  \n",
       "2  Day 1 - Beginner - Working with Variables in P...  \n",
       "3  Course Orientation, Welcome To The Course!, Jo...  \n",
       "4  Getting Started, Welcome To The Course!, What ...  "
      ]
     },
     "execution_count": 1,
     "metadata": {},
     "output_type": "execute_result"
    }
   ],
   "source": [
    "# Importing below Python libraries for data analysis\n",
    "import pandas as pd\n",
    "import numpy as np\n",
    "import matplotlib.pyplot as plt\n",
    "import seaborn as sns\n",
    "import re\n",
    "\n",
    "# Importing the warnings module for handling warning messages\n",
    "import warnings\n",
    "\n",
    "# Ignoring warning messages to prevent interruptions during code execution\n",
    "warnings.filterwarnings(\"ignore\")\n",
    "\n",
    "df = pd.read_csv(r\"C:\\Users\\Meghana\\Desktop\\mini project dataset\\udemy dataset\\ufinal.csv\")\n",
    "df.head()"
   ]
  },
  {
   "cell_type": "code",
   "execution_count": 2,
   "metadata": {},
   "outputs": [
    {
     "name": "stdout",
     "output_type": "stream",
     "text": [
      "id                     0\n",
      "title                  0\n",
      "url                    0\n",
      "is_paid                0\n",
      "instructor_names       2\n",
      "category               0\n",
      "headline               0\n",
      "num_subscribers        0\n",
      "rating                 0\n",
      "num_reviews            0\n",
      "instructional_level    0\n",
      "objectives             0\n",
      "curriculum             0\n",
      "dtype: int64\n"
     ]
    }
   ],
   "source": [
    "# Calculate the number of null values in each column\n",
    "null_counts = df.isnull().sum()\n",
    "\n",
    "# Print the results\n",
    "print(null_counts)"
   ]
  },
  {
   "cell_type": "code",
   "execution_count": 3,
   "metadata": {},
   "outputs": [
    {
     "data": {
      "text/plain": [
       "98104"
      ]
     },
     "execution_count": 3,
     "metadata": {},
     "output_type": "execute_result"
    }
   ],
   "source": [
    "df.shape[0]"
   ]
  },
  {
   "cell_type": "code",
   "execution_count": 4,
   "metadata": {},
   "outputs": [],
   "source": [
    "# Remove rows with null values\n",
    "df.dropna(inplace=True)\n",
    "\n",
    "# Reset the index of the DataFrame\n",
    "df.reset_index(inplace=True, drop=True)"
   ]
  },
  {
   "cell_type": "code",
   "execution_count": 5,
   "metadata": {},
   "outputs": [
    {
     "name": "stdout",
     "output_type": "stream",
     "text": [
      "id                     0\n",
      "title                  0\n",
      "url                    0\n",
      "is_paid                0\n",
      "instructor_names       0\n",
      "category               0\n",
      "headline               0\n",
      "num_subscribers        0\n",
      "rating                 0\n",
      "num_reviews            0\n",
      "instructional_level    0\n",
      "objectives             0\n",
      "curriculum             0\n",
      "dtype: int64\n"
     ]
    }
   ],
   "source": [
    "# Calculate the number of null values in each column\n",
    "null_counts = df.isnull().sum()\n",
    "\n",
    "# Print the results\n",
    "print(null_counts)"
   ]
  },
  {
   "cell_type": "code",
   "execution_count": 6,
   "metadata": {},
   "outputs": [
    {
     "data": {
      "text/plain": [
       "id                       int64\n",
       "title                   object\n",
       "url                     object\n",
       "is_paid                   bool\n",
       "instructor_names        object\n",
       "category                object\n",
       "headline                object\n",
       "num_subscribers          int64\n",
       "rating                 float64\n",
       "num_reviews              int64\n",
       "instructional_level     object\n",
       "objectives              object\n",
       "curriculum              object\n",
       "dtype: object"
      ]
     },
     "execution_count": 6,
     "metadata": {},
     "output_type": "execute_result"
    }
   ],
   "source": [
    "df.dtypes\n"
   ]
  },
  {
   "cell_type": "code",
   "execution_count": 7,
   "metadata": {},
   "outputs": [],
   "source": [
    "df['is_paid'] = df['is_paid'].astype(bool)\n"
   ]
  },
  {
   "cell_type": "code",
   "execution_count": 8,
   "metadata": {},
   "outputs": [
    {
     "data": {
      "image/png": "[encoded data removed]",
      "text/plain": [
       "<Figure size 640x480 with 1 Axes>"
      ]
     },
     "metadata": {},
     "output_type": "display_data"
    },
    {
     "data": {
      "image/png": "[encoded data removed]",
      "text/plain": [
       "<Figure size 640x480 with 1 Axes>"
      ]
     },
     "metadata": {},
     "output_type": "display_data"
    }
   ],
   "source": [
    "import matplotlib.pyplot as plt\n",
    "\n",
    "# Plot distribution of ratings\n",
    "df['rating'].plot(kind='hist', bins=20, title='Course Rating Distribution')\n",
    "plt.xlabel('Rating')\n",
    "plt.ylabel('Frequency')\n",
    "plt.show()\n",
    "\n",
    "# Plot number of courses per category\n",
    "df['category'].value_counts().plot(kind='bar', title='Number of Courses per Category')\n",
    "plt.xlabel('Category')\n",
    "plt.ylabel('Number of Courses')\n",
    "plt.show()\n"
   ]
  },
  {
   "cell_type": "code",
   "execution_count": 10,
   "metadata": {},
   "outputs": [
    {
     "name": "stdout",
     "output_type": "stream",
     "text": [
      "                                                   title  \\\n",
      "0      The Complete Python Bootcamp From Zero to Hero...   \n",
      "1             The Complete 2024 Web Development Bootcamp   \n",
      "2      100 Days of Code: The Complete Python Pro Boot...   \n",
      "3                        The Web Developer Bootcamp 2024   \n",
      "4      React - The Complete Guide 2024 (incl. Next.js...   \n",
      "...                                                  ...   \n",
      "98099  LinkedIn Career Success Starter for High Schoo...   \n",
      "98100  2 Minute French Whisperer Advanced - Course 4 ...   \n",
      "98101                   Introduction to Biology of Aging   \n",
      "98102  Mastering Schematics Electrical Drawings Episo...   \n",
      "98103  Understanding RC  Resonant Circuits and Passiv...   \n",
      "\n",
      "                                                  Skills  \n",
      "0      [Properties, Methods, Classes, Python, Git, Gi...  \n",
      "1      [React, API, CSS, Properties, jQuery, Methods,...  \n",
      "2      [Properties, API, CSS, Methods, solid, Classes...  \n",
      "3      [React, API, CSS, HTML5, MongoDB, jQuery, Clas...  \n",
      "4      [React, API, CSS, Properties, MongoDB, Methods...  \n",
      "...                                                  ...  \n",
      "98099  [building, action, checklist, unlocking, steps...  \n",
      "98100                                              [Vue]  \n",
      "98101  [activation, reprogramming, cellular, molecula...  \n",
      "98102                                          [Circuit]  \n",
      "98103                                 [RC, C, Resonance]  \n",
      "\n",
      "[98104 rows x 2 columns]\n",
      "Number of empty lists in Skills column: 0\n",
      "Empty DataFrame\n",
      "Columns: [url, title, curriculum, Skills]\n",
      "Index: []\n"
     ]
    }
   ],
   "source": [
    "import pandas as pd\n",
    "import re\n",
    "\n",
    "# List of predefined skills\n",
    "skills_list = [\n",
    "    'HTML', 'CSS', 'JavaScript', 'Node.js', 'React', 'MongoDB', 'Git', 'Express', 'SQL', 'Python', 'Django',\n",
    "    'Angular', 'Vue', 'TypeScript', 'Docker', 'AWS', 'API', 'REST', 'GraphQL', 'jQuery', 'Bootstrap', 'Webpack',\n",
    "    'HTML5', 'Node', 'Machine Learning', 'Data Science', 'Deep Learning', 'SQL', 'Cloud Computing', 'Swift',\n",
    "    'Kotlin', 'C#', 'Ruby', 'GitHub', 'Ruby on Rails', 'PHP', 'Firebase', 'Vagrant', 'Linux',\n",
    "    'Jira', 'AI', 'Agile', 'Unity', 'VS Code', '.NET', 'C# and .NET Framework', 'C# vs .NET', 'What is CLR?', 'Architecture of .NET',\n",
    "     'CI', 'CD', 'DevOps', 'Go', 'Classes', 'Constructors', 'Fields', 'Properties', 'Methods', 'Relational Databases', \n",
    "    'Clean Code', 'JMeter', 'Single Responsibility Principle', 'Cohesion', 'Coupling', 'Reasons for Change', 'Open Closed Principle', \n",
    "    'Real World Analogies', 'Liskov Substitution Principle', 'Breaking The Hierarchy', 'Interface Segregation Principle',\n",
    "    'Dependency Inversion Principle', 'Dependency Injection', 'ISTQB FL', 'Fundamentals of Testing', 'Testing Throughout the Software Development Lifecycle',\n",
    "    'Static Testing', 'Test Analysis & Design', 'Test Management', 'Test Tools', 'Course Content Overview', 'Exam Structure', \n",
    "    'Business Outcomes', 'Introduction Quiz', 'Course Slides', 'Fundamentals of Testing', 'Testing Throughout the Software Development Lifecycle', \n",
    "    'Static Testing', 'Chapter 4: Test Analysis & Design', 'Test Management', 'Test Tools',\n",
    "    'UNIX', 'data', 'power-bi', 'R programming', 'Data structures and algorithms', 'opencv', 'solid', 'vim', 'natural language processing', 'SASS & SCSS', 'ISTQB Foundation Level Exam',\n",
    "    'rust', 'ue4', 'uml', 'resume','RC','Circuit','Resonance','C','C plus plus','C programming','C++ programming','go'\n",
    "]\n",
    "\n",
    "# List of common stopwords (you can expand this as needed)\n",
    "stopwords = set([\n",
    "    'the', 'a', 'with', 'and', 'for', 'to', 'of', 'in', 'on', 'is', 'this', 'that', 'at', 'by', 'from', 'be', 'an',\n",
    "    'as', 'it', 'which', 'we', 'become', 'i', 'learn', 'build', 'use', 'using', 'how', 'my', 'welcome', 'course',\n",
    "    'install', 'issue','college','into','make','present'\n",
    "])\n",
    "\n",
    "# Function to extract skills from the description and title\n",
    "def extract_skills(description, title, skills_list):\n",
    "    # Convert description and title to lowercase and split into words\n",
    "    words = re.findall(r'\\b\\w+\\b', (description + \" \" + title).lower())  # Combine description and title\n",
    "\n",
    "    # Remove stopwords from words\n",
    "    words = [word for word in words if word not in stopwords]\n",
    "\n",
    "    # Find skills from the predefined list\n",
    "    found_skills = set(skill for skill in skills_list if skill.lower() in words)\n",
    "\n",
    "    # If no skills are found from the predefined list, attempt to find skill-like words\n",
    "    if not found_skills:\n",
    "        # Consider words longer than 2 characters and likely to be skills\n",
    "        possible_skills = set([word for word in words if len(word) > 2])\n",
    "\n",
    "        # Check if any new skills are identified that are not in the predefined list\n",
    "        found_skills.update([word for word in possible_skills if word not in skills_list])\n",
    "\n",
    "    return list(found_skills)\n",
    "\n",
    "# Function to process the course data and handle missing skills\n",
    "def process_courses(df, skills_list):\n",
    "    # Apply the skill extraction function to each course description and title\n",
    "    df['Skills'] = df.apply(lambda row: extract_skills(row['curriculum'], row['title'], skills_list), axis=1)\n",
    "\n",
    "    # Return the updated dataframe with course titles and extracted skills\n",
    "    return df\n",
    "\n",
    "# Example usage\n",
    "df = pd.read_csv(r\"C:\\Users\\Meghana\\Desktop\\mini project dataset\\udemy dataset\\ufinal.csv\")\n",
    "\n",
    "# Process the courses and extract skills\n",
    "df = process_courses(df, skills_list)\n",
    "\n",
    "# Show the results\n",
    "print(df[['title', 'Skills']])\n",
    "\n",
    "# Process the courses and extract skills again (to ensure it's applied)\n",
    "df = process_courses(df, skills_list)\n",
    "\n",
    "# Save the updated DataFrame with the extracted skills into a new CSV file, including the 'url' column\n",
    "df[['url', 'title', 'Skills']].to_csv(r'C:\\Users\\Meghana\\Desktop\\MCA Final Demo\\Courses\\courses_with_skills.csv', index=False)\n",
    "\n",
    "# Filter rows where no skills were found\n",
    "no_skills_df = df[df['Skills'].apply(lambda x: len(x) == 0)]\n",
    "\n",
    "# Print the number of empty lists in the Skills column\n",
    "empty_skills_count = df['Skills'].apply(lambda x: len(x) == 0).sum()\n",
    "print(f'Number of empty lists in Skills column: {empty_skills_count}')\n",
    "\n",
    "# Print the rows with empty skills\n",
    "print(no_skills_df[['url', 'title', 'curriculum', 'Skills']])\n"
   ]
  },
  {
   "cell_type": "code",
   "execution_count": null,
   "metadata": {},
   "outputs": [],
   "source": []
  }
 ],
 "metadata": {
  "kernelspec": {
   "display_name": "Python 3",
   "language": "python",
   "name": "python3"
  },
  "language_info": {
   "codemirror_mode": {
    "name": "ipython",
    "version": 3
   },
   "file_extension": ".py",
   "mimetype": "text/x-python",
   "name": "python",
   "nbconvert_exporter": "python",
   "pygments_lexer": "ipython3",
   "version": "3.12.0"
  }
 },
 "nbformat": 4,
 "nbformat_minor": 2
}
